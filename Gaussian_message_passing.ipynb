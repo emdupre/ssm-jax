{
 "cells": [
  {
   "cell_type": "code",
   "execution_count": 3,
   "id": "29b0ae7e-785b-4d21-aae7-8c5192abe4ae",
   "metadata": {},
   "outputs": [],
   "source": [
    "import jax\n",
    "from jax import numpy as jnp\n",
    "from jax import random as jr\n",
    "from jax import vmap, lax"
   ]
  },
  {
   "cell_type": "code",
   "execution_count": 4,
   "id": "c81937e9-b0fd-4b0a-9aca-03d14e30acf6",
   "metadata": {},
   "outputs": [],
   "source": [
    "from ssm_jax.bp.gauss_bp import (potential_from_conditional_linear_gaussian,\n",
    "                                 info_condition,\n",
    "                                 info_marginalise,\n",
    "                                 info_multiply,\n",
    "                                 info_divide)\n",
    "\n",
    "from ssm_jax.lgssm.models import LinearGaussianSSM\n",
    "from ssm_jax.lgssm.info_inference import LGSSMInfoParams, lgssm_info_smoother"
   ]
  },
  {
   "cell_type": "markdown",
   "id": "af1d82b7-1040-49cd-b868-fed00ef3ee68",
   "metadata": {},
   "source": [
    "#### Construct LGSSM model"
   ]
  },
  {
   "cell_type": "code",
   "execution_count": 5,
   "id": "014c8cf7-f754-4396-b7c0-a36e6a36256f",
   "metadata": {},
   "outputs": [
    {
     "name": "stderr",
     "output_type": "stream",
     "text": [
      "WARNING:absl:No GPU/TPU found, falling back to CPU. (Set TF_CPP_MIN_LOG_LEVEL=0 and rerun for more info.)\n"
     ]
    }
   ],
   "source": [
    "delta = 1.0\n",
    "F = jnp.array([[1.0, 0, delta, 0], [0, 1.0, 0, delta], [0, 0, 1.0, 0], [0, 0, 0, 1.0]])\n",
    "\n",
    "H = jnp.array([[1.0, 0, 0, 0], [0, 1.0, 0, 0]])\n",
    "\n",
    "state_size, _ = F.shape\n",
    "observation_size, _ = H.shape\n",
    "\n",
    "Q = jnp.eye(state_size) * 0.001\n",
    "Q_prec = jnp.linalg.inv(Q)\n",
    "R = jnp.eye(observation_size) * 1.0\n",
    "R_prec = jnp.linalg.inv(R)\n",
    "\n",
    "input_size = 1\n",
    "B = jnp.array([1.0, 0.5, -0.05, -0.01]).reshape((state_size, input_size))\n",
    "b = jnp.ones((state_size,)) * 0.01\n",
    "D = jnp.ones((observation_size, input_size))\n",
    "d = jnp.ones((observation_size,)) * 0.02\n",
    "\n",
    "# Prior parameter distribution\n",
    "mu0 = jnp.array([8.0, 10.0, 1.0, 0.0])\n",
    "Sigma0 = jnp.eye(state_size) * 0.1\n",
    "Lambda0 = jnp.linalg.inv(Sigma0)\n",
    "eta0 = Lambda0 @ mu0\n",
    "\n",
    "# Construct LGSSM\n",
    "lgssm = LinearGaussianSSM(\n",
    "    initial_mean=mu0,\n",
    "    initial_covariance=Sigma0,\n",
    "    dynamics_matrix=F,\n",
    "    dynamics_covariance=Q,\n",
    "    dynamics_input_weights=B,\n",
    "    dynamics_bias=b,\n",
    "    emission_matrix=H,\n",
    "    emission_covariance=R,\n",
    "    emission_input_weights=D,\n",
    "    emission_bias=d,\n",
    ")\n",
    "\n",
    "# Collect information form parameters\n",
    "lgssm_info = LGSSMInfoParams(\n",
    "    initial_mean=mu0,\n",
    "    initial_precision=Lambda0,\n",
    "    dynamics_matrix=F,\n",
    "    dynamics_precision=Q_prec,\n",
    "    dynamics_input_weights=B,\n",
    "    dynamics_bias=b,\n",
    "    emission_matrix=H,\n",
    "    emission_precision=R_prec,\n",
    "    emission_input_weights=D,\n",
    "    emission_bias=d,\n",
    ")"
   ]
  },
  {
   "cell_type": "markdown",
   "id": "831fcbb7-38aa-4335-99f4-477b0deac1e3",
   "metadata": {
    "tags": []
   },
   "source": [
    "#### Sample from the model"
   ]
  },
  {
   "cell_type": "code",
   "execution_count": 177,
   "id": "21fec58a-f714-4e07-8779-9319e291016c",
   "metadata": {
    "tags": []
   },
   "outputs": [],
   "source": [
    "key = jr.PRNGKey(111)\n",
    "num_timesteps = 15\n",
    "inputs = jnp.zeros((num_timesteps, input_size))\n",
    "z, y = lgssm.sample(key, num_timesteps, inputs)\n",
    "\n",
    "lgssm_info_posterior = lgssm_info_smoother(lgssm_info, y, inputs)"
   ]
  },
  {
   "cell_type": "markdown",
   "id": "8b457ef1-4ead-4b36-9cc0-176c41ee3427",
   "metadata": {
    "tags": []
   },
   "source": [
    "### Message Passing Inference"
   ]
  },
  {
   "cell_type": "code",
   "execution_count": 7,
   "id": "f880ebdd-678f-40f8-8381-1141f208a44a",
   "metadata": {
    "tags": []
   },
   "outputs": [],
   "source": [
    "def info_blocks_condition(K_blocks, h_blocks,y):\n",
    "    K11, K12, _ = K_blocks\n",
    "    h1, _ = h_blocks\n",
    "    return info_condition(K11, K12, h1, y)\n",
    "\n",
    "# Can I do this without including the inputs yet?\n",
    "#  maybe yes...\n",
    "def cliques_from_lgssm(lgssm_info, inputs):\n",
    "    \"\"\"Construct pairwise latent and emission cliques from model.\"\"\"\n",
    "    \n",
    "    # Calculate net inputs\n",
    "    B, b = lgssm_info.dynamics_input_weights, lgssm_info.dynamics_bias\n",
    "    D, d = lgssm_info.emission_input_weights, lgssm_info.emission_bias\n",
    "    latent_net_inputs = vmap(jnp.dot,(None,0))(B, inputs) + b\n",
    "    emission_net_inputs = vmap(jnp.dot,(None,0))(D, inputs) + d\n",
    "    \n",
    "    F, Q_prec = lgssm_info.dynamics_matrix, lgssm_info.dynamics_precision\n",
    "    H, R_prec = lgssm_info.emission_matrix, lgssm_info.emission_precision \n",
    "    # Each of these is a tuple ((K11, K12, K22), (h1, h2)) where each element contains \n",
    "    #  the clique parameters for different timepoints as stacked rows.\n",
    "    latent_pots = vmap(potential_from_conditional_linear_gaussian,(None,0,None))(F,latent_net_inputs[:-1],Q_prec)\n",
    "    emission_pots = vmap(potential_from_conditional_linear_gaussian,(None,0,None))(H,emission_net_inputs[1:],R_prec)\n",
    "    \n",
    "    Lambda0, mu0 = lgssm_info.initial_precision, lgssm_info.initial_mean\n",
    "    prior_pot = (Lambda0, Lambda0 @ mu0)\n",
    "    \n",
    "    return prior_pot, emission_pots, latent_pots\n",
    "\n",
    "def absorb_emission_message(message, latent_pot):\n",
    "    (K11, K12, K22), (h1,h2) = latent_pot\n",
    "    K22, h2 = info_multiply(message,(K22,h2))\n",
    "    return (K11, K12, K22), (h1, h2)\n",
    "\n",
    "def absorb_latent_message(message, latent_pot):\n",
    "    (K11, K12, K22), (h1,h2) = latent_pot\n",
    "    K11, h1 = info_multiply(message,(K11,h1))\n",
    "    return (K11, K12, K22), (h1, h2)\n",
    "\n",
    "def step(carry, x):\n",
    "    message = carry\n",
    "    #K_message, h_message = carry\n",
    "    latent_pot = x\n",
    "    \n",
    "    latent_pot = absorb_latent_message(message,latent_pot)\n",
    "    #padded_message = ((K_message,0,0),(h_message,0))\n",
    "    #latent_pot = info_multiply(padded_message,latent_pot)\n",
    "    message_out = info_marginalise(*latent_pot)\n",
    "    return message_out, message_out"
   ]
  },
  {
   "cell_type": "code",
   "execution_count": 8,
   "id": "5e684565-71a4-4600-93aa-067195c29ed5",
   "metadata": {},
   "outputs": [],
   "source": [
    "# First emission\n",
    "emission_pot1 = potential_from_conditional_linear_gaussian(H,D @ inputs[0] + d, R_prec)\n",
    "emission_message1 = info_blocks_condition(*emission_pot1,y[0])\n",
    "\n",
    "# x1 marginal\n",
    "x1 = info_multiply((Lambda0,eta0),emission_message1)"
   ]
  },
  {
   "cell_type": "code",
   "execution_count": 9,
   "id": "c08ebb72-2cb9-46e5-9d33-51e555afdd4f",
   "metadata": {},
   "outputs": [],
   "source": [
    "_, emission_pots, latent_pots = cliques_from_lgssm(lgssm_info, inputs)\n",
    "\n",
    "# Generate the emission messages by conditioning on emissions\n",
    "emission_messages = vmap(info_blocks_condition)(*emission_pots,y[1:])\n",
    "\n",
    "# Absorb the emission messages into the latent potentials\n",
    "latent_pots = vmap(absorb_emission_message)(emission_messages,latent_pots)\n",
    "\n",
    "# Initial carry is the marginal params from x1\n",
    "init_carry = x1\n",
    "_, out = lax.scan(step,init_carry,latent_pots)"
   ]
  },
  {
   "cell_type": "code",
   "execution_count": 10,
   "id": "8c74fd44-e7a2-4397-be86-5f2780c1ee6f",
   "metadata": {},
   "outputs": [
    {
     "name": "stdout",
     "output_type": "stream",
     "text": [
      "True\n",
      "True\n"
     ]
    }
   ],
   "source": [
    "# Add the initial marginal by prepending to each array.\n",
    "marg_up = jax.tree_map(lambda h, t: jnp.row_stack((h[None,...],t)),x1,out)\n",
    "K_up, h_up = marg_up\n",
    "print(jnp.allclose(lgssm_info_posterior.filtered_precisions,K_up,\n",
    "                   rtol=1e-3))\n",
    "print(jnp.allclose(lgssm_info_posterior.filtered_etas,h_up,\n",
    "                   rtol=1e-3))"
   ]
  },
  {
   "cell_type": "markdown",
   "id": "e91ddab8-b36a-446c-a82a-d560b23e3c3d",
   "metadata": {},
   "source": [
    "### Heading Up"
   ]
  },
  {
   "cell_type": "code",
   "execution_count": 176,
   "id": "72ea93a3-da91-40b8-853e-3f02cda84fa9",
   "metadata": {
    "tags": []
   },
   "outputs": [],
   "source": [
    "def info_blocks_condition(K_blocks, h_blocks,y):\n",
    "    K11, K12, _ = K_blocks\n",
    "    h1, _ = h_blocks\n",
    "    return info_condition(K11, K12, h1, y)\n",
    "\n",
    "def cliques_from_lgssm(lgssm_params, inputs):\n",
    "    \"\"\"Construct pairwise latent and emission cliques from model.\n",
    "    \n",
    "    Args:\n",
    "        lgssm_params: an LGSSMInfoParams instance.\n",
    "        inputs: (T,D_in): array of inputs.\n",
    "        \n",
    "    Returns:\n",
    "        prior_pot: A tuple of parameters representing the prior potential,\n",
    "                    (Lambda0, eta0)\n",
    "        lambda_pots: A tuple containing the parameters for each pairwise latent\n",
    "                     clique potential - ((K11, K12, K22),(h1, h2)).\n",
    "        emission_pots: A tuple containing the parameters for each pairwise\n",
    "                     emission clique potential - ((K11, K12, K22),(h1, h2)).\n",
    "    \"\"\"\n",
    "\n",
    "    B, b = lgssm_params.dynamics_input_weights, lgssm_params.dynamics_bias\n",
    "    D, d = lgssm_params.emission_input_weights, lgssm_params.emission_bias\n",
    "    latent_net_inputs = vmap(jnp.dot,(None,0))(B, inputs) + b\n",
    "    emission_net_inputs = vmap(jnp.dot,(None,0))(D, inputs) + d\n",
    "    \n",
    "    F, Q_prec = lgssm_params.dynamics_matrix, lgssm_params.dynamics_precision\n",
    "    H, R_prec = lgssm_params.emission_matrix, lgssm_params.emission_precision \n",
    "    # Each of these is a tuple ((K11, K12, K22), (h1, h2)) where each element contains \n",
    "    #  the clique parameters for different timepoints as stacked rows.\n",
    "    latent_pots = vmap(potential_from_conditional_linear_gaussian,(None,0,None))(F,latent_net_inputs[:-1],Q_prec)\n",
    "    emission_pots = vmap(potential_from_conditional_linear_gaussian,(None,0,None))(H,emission_net_inputs[1:],R_prec)\n",
    "    \n",
    "    Lambda0, mu0 = lgssm_params.initial_precision, lgssm_params.initial_mean\n",
    "    prior_pot = (Lambda0, Lambda0 @ mu0)\n",
    "    \n",
    "    return prior_pot, emission_pots, latent_pots\n",
    "\n",
    "def absorb_emission_message(message, latent_pot):\n",
    "    (K11, K12, K22), (h1,h2) = latent_pot\n",
    "    K22, h2 = info_multiply(message,(K22,h2))\n",
    "    return (K11, K12, K22), (h1, h2)\n",
    "\n",
    "def absorb_latent_message(message, latent_pot):\n",
    "    (K11, K12, K22), (h1,h2) = latent_pot\n",
    "    K11, h1 = info_multiply(message,(K11,h1))\n",
    "    return (K11, K12, K22), (h1, h2)\n",
    "\n",
    "def forward_step(carry, x):\n",
    "    prev_bel = carry\n",
    "    latent_pot, emission_pot, y = x\n",
    "    \n",
    "    latent_pot = absorb_latent_message(prev_bel,latent_pot)\n",
    "    latent_message = info_marginalise(*latent_pot)\n",
    "    \n",
    "    emission_message = info_blocks_condition(*emission_pot,y)\n",
    "    bel = info_multiply(latent_message, emission_message)\n",
    "    \n",
    "    return bel, (bel, latent_message)"
   ]
  },
  {
   "cell_type": "code",
   "execution_count": 21,
   "id": "22021ee1-5038-4232-9969-edfa6ef1234d",
   "metadata": {},
   "outputs": [],
   "source": [
    "# First emission\n",
    "emission_pot1 = potential_from_conditional_linear_gaussian(H,D @ inputs[0] + d, R_prec)\n",
    "emission_message1 = info_blocks_condition(*emission_pot1,y[0])\n",
    "\n",
    "# x1 marginal\n",
    "x1 = info_multiply((Lambda0,eta0),emission_message1)"
   ]
  },
  {
   "cell_type": "code",
   "execution_count": 26,
   "id": "c14647e6-f2c1-48b5-bf44-dc97597e569d",
   "metadata": {},
   "outputs": [],
   "source": [
    "_, emission_pots, latent_pots = cliques_from_lgssm(lgssm_info, inputs)\n",
    "\n",
    "\n",
    "# Initial carry is the marginal params from x1\n",
    "init_carry = x1\n",
    "_, (bels, messages) = lax.scan(forward_step,init_carry,(latent_pots, emission_pots, y[1:]))"
   ]
  },
  {
   "cell_type": "code",
   "execution_count": 61,
   "id": "e9263dd1-3d6f-4426-b70d-9ade71cd42e0",
   "metadata": {},
   "outputs": [
    {
     "name": "stdout",
     "output_type": "stream",
     "text": [
      "True\n",
      "True\n"
     ]
    }
   ],
   "source": [
    "# Add the initial marginal by prepending to each array.\n",
    "bels_up = jax.tree_map(lambda h, t: jnp.row_stack((h[None,...],t)),x1,bels)\n",
    "K_up, h_up = bels_up\n",
    "print(jnp.allclose(lgssm_info_posterior.filtered_precisions,K_up,\n",
    "                   rtol=1e-3))\n",
    "print(jnp.allclose(lgssm_info_posterior.filtered_etas,h_up,\n",
    "                   rtol=1e-3))"
   ]
  },
  {
   "cell_type": "markdown",
   "id": "c73e873d-e694-4ecf-a83d-56c44c5a0b43",
   "metadata": {},
   "source": [
    "#### Heading Down"
   ]
  },
  {
   "cell_type": "code",
   "execution_count": 156,
   "id": "a234b35d-340c-46de-97db-65cab0c775c5",
   "metadata": {},
   "outputs": [],
   "source": [
    "def info_marginalise_down(K_blocks, hs):\n",
    "    \"\"\"Calculate the parameters of marginalised MVN.\n",
    "    \n",
    "    For x1, x2 joint distributed as\n",
    "        p(x1, x2) = Nc(x1,x2| h, K),\n",
    "    the marginal distribution of x1 is given by:\n",
    "        p(x2) = \\int p(x1, x2) dx1 = Nc(x2 | h2_marg, K2_marg)\n",
    "    where,\n",
    "        h2_marg = h2 - K21 K11^{-1} h1\n",
    "        K2_marg = K22 - K21 K11^{-1} K12\n",
    "\n",
    "    Args:\n",
    "        K_blocks: blocks of the joint precision matrix, (K11, K12, K22),\n",
    "                    K11 (dim1,dim1),\n",
    "                    K12 (dim1, dim2),\n",
    "                    K22 (dim2, dim2).\n",
    "        hs (D,1): joint precision weighted mean, (h1, h2):\n",
    "                    h1 (dim1, 1),\n",
    "                    h2 (dim2, 1).\n",
    "    Returns:\n",
    "        K2_marg (dim2, dim2): marginal precision matrix.\n",
    "        h2_marg (dim2,1): marginal precision weighted mean.\n",
    "    \"\"\"\n",
    "    K11, K12, K22 = K_blocks\n",
    "    h1, h2 = hs \n",
    "    G = jnp.linalg.solve(K22,K12.T)\n",
    "    K1_marg = K11 - K12 @ G\n",
    "    h1_marg = h1 - G.T @ h2\n",
    "    return K1_marg, h1_marg\n",
    "\n",
    "def backward_step(carry, x):\n",
    "    prev_bel = carry\n",
    "    bel, message_up, latent_pot = x\n",
    "    \n",
    "    bel_minus_message_up = info_divide(prev_bel, message_up)\n",
    "    latent_pot = info_multiply(latent_pot,((0,0,bel_minus_message_up[0]),(0,bel_minus_message_up[1])))\n",
    "    message_down = info_marginalise_down(*latent_pot)\n",
    "    \n",
    "    bel = info_multiply(bel, message_down)\n",
    "    return bel, bel"
   ]
  },
  {
   "cell_type": "code",
   "execution_count": 174,
   "id": "1c3d7ac3-1c41-487b-a890-33e5468e5c03",
   "metadata": {},
   "outputs": [],
   "source": [
    "# Feels a bit much...\n",
    "#split_bels = jax.tree_map(lambda a: (a[:-1],a[-1]),bels_up)\n",
    "#bels_rest, init_carry = tuple(zip(*split_bels))\n",
    "init_carry = jax.tree_map(lambda a: a[-1], bels_up)\n",
    "bels_rest = jax.tree_map(lambda a: a[:-1], bels_up)\n",
    "_, bels_down = lax.scan(backward_step,init_carry, (bels_rest, messages, latent_pots),reverse=True)\n",
    "bels_down = jax.tree_map(lambda h, t: jnp.row_stack((h, t[None,...])), bels_down, init_carry)"
   ]
  },
  {
   "cell_type": "code",
   "execution_count": 175,
   "id": "30eee9aa-ffbe-4b60-bfa7-c4268accfed7",
   "metadata": {},
   "outputs": [
    {
     "name": "stdout",
     "output_type": "stream",
     "text": [
      "True\n",
      "True\n"
     ]
    }
   ],
   "source": [
    "K_down, h_down = bels_down\n",
    "print(jnp.allclose(lgssm_info_posterior.smoothed_precisions,K_down,\n",
    "                   rtol=1e-3))\n",
    "print(jnp.allclose(lgssm_info_posterior.smoothed_etas,h_down,\n",
    "                   rtol=1e-3))"
   ]
  },
  {
   "cell_type": "markdown",
   "id": "15ed3277-6046-49b3-9f29-eb721e6c7e4b",
   "metadata": {},
   "source": [
    "## All together now"
   ]
  },
  {
   "cell_type": "code",
   "execution_count": 198,
   "id": "3c5eeaf5-b851-4d77-bef9-007ad89d1083",
   "metadata": {},
   "outputs": [],
   "source": [
    "from ssm_jax.lgssm.info_inference_test import TestInfoFilteringAndSmoothing"
   ]
  },
  {
   "cell_type": "code",
   "execution_count": 199,
   "id": "aa3a3316-cdb0-49bc-a4c7-8ff0d4375bf5",
   "metadata": {},
   "outputs": [],
   "source": [
    "lgssm = TestInfoFilteringAndSmoothing.lgssm\n",
    "lgssm_info = TestInfoFilteringAndSmoothing.lgssm_info"
   ]
  },
  {
   "cell_type": "code",
   "execution_count": 200,
   "id": "c5f657ce-f79c-4db7-bca5-b92acf48c7fd",
   "metadata": {},
   "outputs": [],
   "source": [
    "key = jr.PRNGKey(111)\n",
    "num_timesteps = 15\n",
    "inputs = jnp.zeros((num_timesteps, input_size))\n",
    "z, y = lgssm.sample(key, num_timesteps, inputs)\n",
    "\n",
    "lgssm_info_posterior = lgssm_info_smoother(lgssm_info, y, inputs)"
   ]
  },
  {
   "cell_type": "code",
   "execution_count": 201,
   "id": "a840f9fb-7e50-458b-a72a-9b57328d509e",
   "metadata": {},
   "outputs": [],
   "source": [
    "def cliques_from_lgssm(lgssm_params, inputs):\n",
    "    \"\"\"Construct pairwise latent and emission cliques from model.\n",
    "    \n",
    "    Args:\n",
    "        lgssm_params: an LGSSMInfoParams instance.\n",
    "        inputs: (T,D_in): array of inputs.\n",
    "        \n",
    "    Returns:\n",
    "        prior_pot: A tuple of parameters representing the prior potential,\n",
    "                    (Lambda0, eta0)\n",
    "        lambda_pots: A tuple containing the parameters for each pairwise latent\n",
    "                     clique potential - ((K11, K12, K22),(h1, h2)).\n",
    "        emission_pots: A tuple containing the parameters for each pairwise\n",
    "                     emission clique potential - ((K11, K12, K22),(h1, h2)).\n",
    "    \"\"\"\n",
    "\n",
    "    B, b = lgssm_params.dynamics_input_weights, lgssm_params.dynamics_bias\n",
    "    D, d = lgssm_params.emission_input_weights, lgssm_params.emission_bias\n",
    "    latent_net_inputs = vmap(jnp.dot,(None,0))(B, inputs) + b\n",
    "    emission_net_inputs = vmap(jnp.dot,(None,0))(D, inputs) + d\n",
    "    \n",
    "    F, Q_prec = lgssm_params.dynamics_matrix, lgssm_params.dynamics_precision\n",
    "    H, R_prec = lgssm_params.emission_matrix, lgssm_params.emission_precision \n",
    "    # Each of these is a tuple ((K11, K12, K22), (h1, h2)) where each element contains \n",
    "    #  the clique parameters for different timepoints as stacked rows.\n",
    "    latent_pots = vmap(potential_from_conditional_linear_gaussian,(None,0,None))(F,latent_net_inputs[:-1],Q_prec)\n",
    "    emission_pots = vmap(potential_from_conditional_linear_gaussian,(None,0,None))(H,emission_net_inputs,R_prec)\n",
    "    \n",
    "    Lambda0, mu0 = lgssm_params.initial_precision, lgssm_params.initial_mean\n",
    "    prior_pot = (Lambda0, Lambda0 @ mu0)\n",
    "    \n",
    "    return prior_pot, emission_pots, latent_pots"
   ]
  },
  {
   "cell_type": "code",
   "execution_count": 202,
   "id": "fc157408-9103-4d19-994b-684775cc9824",
   "metadata": {},
   "outputs": [],
   "source": [
    "prior_pot, emission_pots, latent_pots = cliques_from_lgssm(lgssm_info, inputs)\n",
    "init_emission_pot = jax.tree_map(lambda a: a[0], emission_pots)\n",
    "emission_pots_rest = jax.tree_map(lambda a: a[1:], emission_pots)\n",
    "\n",
    "# Absorb first emission message\n",
    "init_emission_message = info_blocks_condition(*init_emission_pot,y[0])\n",
    "init_carry = info_multiply((Lambda0,eta0),init_emission_message)\n",
    "\n",
    "# Message pass along chain\n",
    "_, (bels, messages) = lax.scan(forward_step,init_carry,(latent_pots, emission_pots_rest, y[1:]))\n",
    "# Append first belief\n",
    "bels_up = jax.tree_map(lambda h, t: jnp.row_stack((h[None,...],t)),init_carry,bels)\n",
    "\n",
    "# Extract final belief\n",
    "init_carry = jax.tree_map(lambda a: a[-1], bels_up)\n",
    "bels_rest = jax.tree_map(lambda a: a[:-1], bels_up)\n",
    "\n",
    "# Message pass back along chain\n",
    "_, bels_down = lax.scan(backward_step,init_carry, (bels_rest, messages, latent_pots),reverse=True)\n",
    "# Append final belief \n",
    "bels_down = jax.tree_map(lambda h, t: jnp.row_stack((h, t[None,...])), bels_down, init_carry)"
   ]
  },
  {
   "cell_type": "code",
   "execution_count": 203,
   "id": "2b6350ad-fed5-432b-a6c4-3ce466a53424",
   "metadata": {},
   "outputs": [
    {
     "name": "stdout",
     "output_type": "stream",
     "text": [
      "True\n",
      "True\n"
     ]
    }
   ],
   "source": [
    "K_down, h_down = bels_down\n",
    "print(jnp.allclose(lgssm_info_posterior.smoothed_precisions,K_down,\n",
    "                   rtol=1e-3))\n",
    "print(jnp.allclose(lgssm_info_posterior.smoothed_etas,h_down,\n",
    "                   rtol=1e-3))"
   ]
  },
  {
   "cell_type": "code",
   "execution_count": null,
   "id": "26ed7070-7d7a-4359-bc44-19cbce50aab2",
   "metadata": {},
   "outputs": [],
   "source": []
  }
 ],
 "metadata": {
  "kernelspec": {
   "display_name": "Python 3 (ipykernel)",
   "language": "python",
   "name": "python3"
  },
  "language_info": {
   "codemirror_mode": {
    "name": "ipython",
    "version": 3
   },
   "file_extension": ".py",
   "mimetype": "text/x-python",
   "name": "python",
   "nbconvert_exporter": "python",
   "pygments_lexer": "ipython3",
   "version": "3.10.4"
  }
 },
 "nbformat": 4,
 "nbformat_minor": 5
}
